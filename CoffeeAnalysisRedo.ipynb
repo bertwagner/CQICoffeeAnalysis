{
 "nbformat": 4,
 "nbformat_minor": 2,
 "metadata": {
  "language_info": {
   "name": "python",
   "codemirror_mode": {
    "name": "ipython",
    "version": 3
   },
   "version": "3.7.2-final"
  },
  "orig_nbformat": 2,
  "file_extension": ".py",
  "mimetype": "text/x-python",
  "name": "python",
  "npconvert_exporter": "python",
  "pygments_lexer": "ipython3",
  "version": 3,
  "kernelspec": {
   "name": "python37232bitvenvvirtualenv21d882e9f719476aaee9957a5bb220cc",
   "display_name": "Python 3.7.2 32-bit ('.venv': virtualenv)"
  }
 },
 "cells": [
  {
   "cell_type": "markdown",
   "execution_count": null,
   "metadata": {},
   "outputs": [],
   "source": [
    "Setup defaults and import libraries."
   ]
  },
  {
   "cell_type": "code",
   "execution_count": 126,
   "metadata": {},
   "outputs": [],
   "source": [
    "import numpy as np\n",
    "import os\n",
    "import pandas as pd\n",
    "import matplotlib as mpl\n",
    "import matplotlib.pyplot as plt\n",
    "import sklearn\n",
    "\n",
    "# to make this notebook's output stable across runs\n",
    "np.random.seed(17)\n",
    "\n",
    "# change plot defaults\n",
    "%matplotlib inline\n",
    "mpl.rc('axes', labelsize=10)\n",
    "mpl.rc('xtick', labelsize=8)\n",
    "mpl.rc('ytick', labelsize=8)"
   ]
  },
  {
   "cell_type": "markdown",
   "execution_count": null,
   "metadata": {},
   "outputs": [],
   "source": [
    "Load the data"
   ]
  },
  {
   "cell_type": "code",
   "execution_count": 127,
   "metadata": {},
   "outputs": [],
   "source": [
    "coffee_data = pd.read_csv(\"datasets//arabica_data_cleaned.csv\", index_col=[0])"
   ]
  },
  {
   "cell_type": "markdown",
   "execution_count": null,
   "metadata": {},
   "outputs": [],
   "source": [
    "Create test and training datasets"
   ]
  },
  {
   "cell_type": "code",
   "execution_count": 128,
   "metadata": {},
   "outputs": [],
   "source": [
    "from sklearn.model_selection import train_test_split\n",
    "\n",
    "train_set, test_set =  train_test_split(coffee_data, test_size=0.2, random_state=17)\n",
    "\n",
    "coffee = train_set.drop(\"Total.Cup.Points\",axis=1)\n",
    "coffee_labels = train_set[\"Total.Cup.Points\"].copy()"
   ]
  },
  {
   "cell_type": "markdown",
   "execution_count": null,
   "metadata": {},
   "outputs": [],
   "source": [
    "Keep only the columns we are interested in"
   ]
  },
  {
   "cell_type": "code",
   "execution_count": 129,
   "metadata": {},
   "outputs": [],
   "source": [
    "coffee = coffee[[\"Country.of.Origin\", \"Variety\", \"Processing.Method\", \"altitude_mean_meters\"]]"
   ]
  },
  {
   "cell_type": "markdown",
   "execution_count": null,
   "metadata": {},
   "outputs": [],
   "source": [
    "Remove altitudes less than 200 meters and fill in with median values"
   ]
  },
  {
   "cell_type": "code",
   "execution_count": 130,
   "metadata": {},
   "outputs": [],
   "source": [
    "coffee[coffee[\"altitude_mean_meters\"] < 200] = None\n",
    "\n",
    "altitude_median = coffee[\"altitude_mean_meters\"].median()\n",
    "coffee[\"altitude_mean_meters\"].fillna(altitude_median, inplace=True)"
   ]
  },
  {
   "cell_type": "markdown",
   "execution_count": null,
   "metadata": {},
   "outputs": [],
   "source": [
    "Drop rows with missing data"
   ]
  },
  {
   "cell_type": "code",
   "execution_count": 131,
   "metadata": {},
   "outputs": [],
   "source": [
    "coffee=coffee.dropna()\n",
    "coffee.reset_index(drop=True,inplace=True)"
   ]
  },
  {
   "cell_type": "markdown",
   "execution_count": null,
   "metadata": {},
   "outputs": [],
   "source": [
    "Encode categories to numeric data"
   ]
  },
  {
   "cell_type": "code",
   "execution_count": 132,
   "metadata": {},
   "outputs": [],
   "source": [
    "from sklearn.preprocessing import OrdinalEncoder\n",
    "ordinal_encoder_country_of_origin = OrdinalEncoder()\n",
    "country_of_origin_encoded = ordinal_encoder_country_of_origin.fit_transform(coffee[[\"Country.of.Origin\"]])\n",
    "encoded_country_of_origin = pd.DataFrame(data=country_of_origin_encoded, columns=[\"country_of_origin_encoded\"])\n",
    "coffee = coffee.merge(encoded_country_of_origin,left_index=True,right_index=True) \n",
    "\n",
    "ordinal_encoder_processing_method = OrdinalEncoder()\n",
    "processing_method_encoded = ordinal_encoder_processing_method.fit_transform(coffee[[\"Processing.Method\"]])\n",
    "encoded_processing_method = pd.DataFrame(data=processing_method_encoded, columns=[\"processing_method_encoded\"])\n",
    "coffee = coffee.merge(encoded_processing_method,left_index=True,right_index=True) \n",
    "\n",
    "ordinal_encoder_variety = OrdinalEncoder()\n",
    "variety_encoded = ordinal_encoder_variety.fit_transform(coffee[[\"Variety\"]])\n",
    "encoded_variety = pd.DataFrame(data=variety_encoded, columns=[\"variety_encoded\"])\n",
    "coffee = coffee.merge(encoded_variety,left_index=True,right_index=True) "
   ]
  },
  {
   "cell_type": "code",
   "execution_count": null,
   "metadata": {},
   "outputs": [],
   "source": []
  }
 ]
}