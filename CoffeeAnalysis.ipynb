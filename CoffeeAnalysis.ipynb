{
 "nbformat": 4,
 "nbformat_minor": 2,
 "metadata": {
  "language_info": {
   "name": "python",
   "codemirror_mode": {
    "name": "ipython",
    "version": 3
   },
   "version": "3.7.2-final"
  },
  "orig_nbformat": 2,
  "file_extension": ".py",
  "mimetype": "text/x-python",
  "name": "python",
  "npconvert_exporter": "python",
  "pygments_lexer": "ipython3",
  "version": 3,
  "kernelspec": {
   "name": "python37232bitvenvvirtualenv21d882e9f719476aaee9957a5bb220cc",
   "display_name": "Python 3.7.2 32-bit ('.venv': virtualenv)"
  }
 },
 "cells": [
  {
   "cell_type": "markdown",
   "execution_count": null,
   "metadata": {},
   "outputs": [],
   "source": [
    "Setup defaults and import libraries."
   ]
  },
  {
   "cell_type": "code",
   "execution_count": 1,
   "metadata": {},
   "outputs": [],
   "source": [
    "import numpy as np\n",
    "import os\n",
    "import pandas as pd\n",
    "import matplotlib as mpl\n",
    "import matplotlib.pyplot as plt\n",
    "import sklearn\n",
    "\n",
    "# to make this notebook's output stable across runs\n",
    "np.random.seed(17)\n",
    "\n",
    "# change plot defaults\n",
    "%matplotlib inline\n",
    "mpl.rc('axes', labelsize=10)\n",
    "mpl.rc('xtick', labelsize=8)\n",
    "mpl.rc('ytick', labelsize=8)\n"
   ]
  },
  {
   "cell_type": "markdown",
   "execution_count": null,
   "metadata": {},
   "outputs": [],
   "source": [
    "Load the data"
   ]
  },
  {
   "cell_type": "code",
   "execution_count": 3,
   "metadata": {},
   "outputs": [],
   "source": [
    "coffee = pd.read_csv(\"datasets//arabica_data_cleaned.csv\", index_col=[0])"
   ]
  },
  {
   "cell_type": "code",
   "execution_count": 4,
   "metadata": {},
   "outputs": [
    {
     "name": "stdout",
     "output_type": "stream",
     "text": "<class 'pandas.core.frame.DataFrame'>\nInt64Index: 1311 entries, 1 to 1312\nData columns (total 43 columns):\n #   Column                 Non-Null Count  Dtype  \n---  ------                 --------------  -----  \n 0   Species                1311 non-null   object \n 1   Owner                  1304 non-null   object \n 2   Country.of.Origin      1310 non-null   object \n 3   Farm.Name              955 non-null    object \n 4   Lot.Number             270 non-null    object \n 5   Mill                   1001 non-null   object \n 6   ICO.Number             1165 non-null   object \n 7   Company                1102 non-null   object \n 8   Altitude               1088 non-null   object \n 9   Region                 1254 non-null   object \n 10  Producer               1081 non-null   object \n 11  Number.of.Bags         1311 non-null   int64  \n 12  Bag.Weight             1311 non-null   object \n 13  In.Country.Partner     1311 non-null   object \n 14  Harvest.Year           1264 non-null   object \n 15  Grading.Date           1311 non-null   object \n 16  Owner.1                1304 non-null   object \n 17  Variety                1110 non-null   object \n 18  Processing.Method      1159 non-null   object \n 19  Aroma                  1311 non-null   float64\n 20  Flavor                 1311 non-null   float64\n 21  Aftertaste             1311 non-null   float64\n 22  Acidity                1311 non-null   float64\n 23  Body                   1311 non-null   float64\n 24  Balance                1311 non-null   float64\n 25  Uniformity             1311 non-null   float64\n 26  Clean.Cup              1311 non-null   float64\n 27  Sweetness              1311 non-null   float64\n 28  Cupper.Points          1311 non-null   float64\n 29  Total.Cup.Points       1311 non-null   float64\n 30  Moisture               1311 non-null   float64\n 31  Category.One.Defects   1311 non-null   int64  \n 32  Quakers                1310 non-null   float64\n 33  Color                  1095 non-null   object \n 34  Category.Two.Defects   1311 non-null   int64  \n 35  Expiration             1311 non-null   object \n 36  Certification.Body     1311 non-null   object \n 37  Certification.Address  1311 non-null   object \n 38  Certification.Contact  1311 non-null   object \n 39  unit_of_measurement    1311 non-null   object \n 40  altitude_low_meters    1084 non-null   float64\n 41  altitude_high_meters   1084 non-null   float64\n 42  altitude_mean_meters   1084 non-null   float64\ndtypes: float64(16), int64(3), object(24)\nmemory usage: 327.8+ KB\n"
    }
   ],
   "source": [
    "coffee.info() "
   ]
  },
  {
   "cell_type": "code",
   "execution_count": 5,
   "metadata": {},
   "outputs": [
    {
     "data": {
      "text/html": "<div>\n<style scoped>\n    .dataframe tbody tr th:only-of-type {\n        vertical-align: middle;\n    }\n\n    .dataframe tbody tr th {\n        vertical-align: top;\n    }\n\n    .dataframe thead th {\n        text-align: right;\n    }\n</style>\n<table border=\"1\" class=\"dataframe\">\n  <thead>\n    <tr style=\"text-align: right;\">\n      <th></th>\n      <th>Number.of.Bags</th>\n      <th>Aroma</th>\n      <th>Flavor</th>\n      <th>Aftertaste</th>\n      <th>Acidity</th>\n      <th>Body</th>\n      <th>Balance</th>\n      <th>Uniformity</th>\n      <th>Clean.Cup</th>\n      <th>Sweetness</th>\n      <th>Cupper.Points</th>\n      <th>Total.Cup.Points</th>\n      <th>Moisture</th>\n      <th>Category.One.Defects</th>\n      <th>Quakers</th>\n      <th>Category.Two.Defects</th>\n      <th>altitude_low_meters</th>\n      <th>altitude_high_meters</th>\n      <th>altitude_mean_meters</th>\n    </tr>\n  </thead>\n  <tbody>\n    <tr>\n      <th>count</th>\n      <td>1311.000000</td>\n      <td>1311.000000</td>\n      <td>1311.000000</td>\n      <td>1311.000000</td>\n      <td>1311.000000</td>\n      <td>1311.000000</td>\n      <td>1311.000000</td>\n      <td>1311.000000</td>\n      <td>1311.00000</td>\n      <td>1311.000000</td>\n      <td>1311.000000</td>\n      <td>1311.000000</td>\n      <td>1311.000000</td>\n      <td>1311.000000</td>\n      <td>1310.000000</td>\n      <td>1311.000000</td>\n      <td>1084.000000</td>\n      <td>1084.000000</td>\n      <td>1084.000000</td>\n    </tr>\n    <tr>\n      <th>mean</th>\n      <td>153.887872</td>\n      <td>7.563806</td>\n      <td>7.518070</td>\n      <td>7.397696</td>\n      <td>7.533112</td>\n      <td>7.517727</td>\n      <td>7.517506</td>\n      <td>9.833394</td>\n      <td>9.83312</td>\n      <td>9.903272</td>\n      <td>7.497864</td>\n      <td>82.115927</td>\n      <td>0.088863</td>\n      <td>0.426392</td>\n      <td>0.177099</td>\n      <td>3.591915</td>\n      <td>1759.548954</td>\n      <td>1808.843803</td>\n      <td>1784.196379</td>\n    </tr>\n    <tr>\n      <th>std</th>\n      <td>129.733734</td>\n      <td>0.378666</td>\n      <td>0.399979</td>\n      <td>0.405119</td>\n      <td>0.381599</td>\n      <td>0.359213</td>\n      <td>0.406316</td>\n      <td>0.559343</td>\n      <td>0.77135</td>\n      <td>0.530832</td>\n      <td>0.474610</td>\n      <td>3.515761</td>\n      <td>0.047957</td>\n      <td>1.832415</td>\n      <td>0.840583</td>\n      <td>5.350371</td>\n      <td>8767.847252</td>\n      <td>8767.187498</td>\n      <td>8767.016913</td>\n    </tr>\n    <tr>\n      <th>min</th>\n      <td>0.000000</td>\n      <td>0.000000</td>\n      <td>0.000000</td>\n      <td>0.000000</td>\n      <td>0.000000</td>\n      <td>0.000000</td>\n      <td>0.000000</td>\n      <td>0.000000</td>\n      <td>0.00000</td>\n      <td>0.000000</td>\n      <td>0.000000</td>\n      <td>0.000000</td>\n      <td>0.000000</td>\n      <td>0.000000</td>\n      <td>0.000000</td>\n      <td>0.000000</td>\n      <td>1.000000</td>\n      <td>1.000000</td>\n      <td>1.000000</td>\n    </tr>\n    <tr>\n      <th>25%</th>\n      <td>14.500000</td>\n      <td>7.420000</td>\n      <td>7.330000</td>\n      <td>7.250000</td>\n      <td>7.330000</td>\n      <td>7.330000</td>\n      <td>7.330000</td>\n      <td>10.000000</td>\n      <td>10.00000</td>\n      <td>10.000000</td>\n      <td>7.250000</td>\n      <td>81.170000</td>\n      <td>0.090000</td>\n      <td>0.000000</td>\n      <td>0.000000</td>\n      <td>0.000000</td>\n      <td>1100.000000</td>\n      <td>1100.000000</td>\n      <td>1100.000000</td>\n    </tr>\n    <tr>\n      <th>50%</th>\n      <td>175.000000</td>\n      <td>7.580000</td>\n      <td>7.580000</td>\n      <td>7.420000</td>\n      <td>7.500000</td>\n      <td>7.500000</td>\n      <td>7.500000</td>\n      <td>10.000000</td>\n      <td>10.00000</td>\n      <td>10.000000</td>\n      <td>7.500000</td>\n      <td>82.500000</td>\n      <td>0.110000</td>\n      <td>0.000000</td>\n      <td>0.000000</td>\n      <td>2.000000</td>\n      <td>1310.640000</td>\n      <td>1350.000000</td>\n      <td>1310.640000</td>\n    </tr>\n    <tr>\n      <th>75%</th>\n      <td>275.000000</td>\n      <td>7.750000</td>\n      <td>7.750000</td>\n      <td>7.580000</td>\n      <td>7.750000</td>\n      <td>7.670000</td>\n      <td>7.750000</td>\n      <td>10.000000</td>\n      <td>10.00000</td>\n      <td>10.000000</td>\n      <td>7.750000</td>\n      <td>83.670000</td>\n      <td>0.120000</td>\n      <td>0.000000</td>\n      <td>0.000000</td>\n      <td>4.000000</td>\n      <td>1600.000000</td>\n      <td>1650.000000</td>\n      <td>1600.000000</td>\n    </tr>\n    <tr>\n      <th>max</th>\n      <td>1062.000000</td>\n      <td>8.750000</td>\n      <td>8.830000</td>\n      <td>8.670000</td>\n      <td>8.750000</td>\n      <td>8.580000</td>\n      <td>8.750000</td>\n      <td>10.000000</td>\n      <td>10.00000</td>\n      <td>10.000000</td>\n      <td>10.000000</td>\n      <td>90.580000</td>\n      <td>0.280000</td>\n      <td>31.000000</td>\n      <td>11.000000</td>\n      <td>55.000000</td>\n      <td>190164.000000</td>\n      <td>190164.000000</td>\n      <td>190164.000000</td>\n    </tr>\n  </tbody>\n</table>\n</div>",
      "text/plain": "       Number.of.Bags        Aroma       Flavor   Aftertaste      Acidity  \\\ncount     1311.000000  1311.000000  1311.000000  1311.000000  1311.000000   \nmean       153.887872     7.563806     7.518070     7.397696     7.533112   \nstd        129.733734     0.378666     0.399979     0.405119     0.381599   \nmin          0.000000     0.000000     0.000000     0.000000     0.000000   \n25%         14.500000     7.420000     7.330000     7.250000     7.330000   \n50%        175.000000     7.580000     7.580000     7.420000     7.500000   \n75%        275.000000     7.750000     7.750000     7.580000     7.750000   \nmax       1062.000000     8.750000     8.830000     8.670000     8.750000   \n\n              Body      Balance   Uniformity   Clean.Cup    Sweetness  \\\ncount  1311.000000  1311.000000  1311.000000  1311.00000  1311.000000   \nmean      7.517727     7.517506     9.833394     9.83312     9.903272   \nstd       0.359213     0.406316     0.559343     0.77135     0.530832   \nmin       0.000000     0.000000     0.000000     0.00000     0.000000   \n25%       7.330000     7.330000    10.000000    10.00000    10.000000   \n50%       7.500000     7.500000    10.000000    10.00000    10.000000   \n75%       7.670000     7.750000    10.000000    10.00000    10.000000   \nmax       8.580000     8.750000    10.000000    10.00000    10.000000   \n\n       Cupper.Points  Total.Cup.Points     Moisture  Category.One.Defects  \\\ncount    1311.000000       1311.000000  1311.000000           1311.000000   \nmean        7.497864         82.115927     0.088863              0.426392   \nstd         0.474610          3.515761     0.047957              1.832415   \nmin         0.000000          0.000000     0.000000              0.000000   \n25%         7.250000         81.170000     0.090000              0.000000   \n50%         7.500000         82.500000     0.110000              0.000000   \n75%         7.750000         83.670000     0.120000              0.000000   \nmax        10.000000         90.580000     0.280000             31.000000   \n\n           Quakers  Category.Two.Defects  altitude_low_meters  \\\ncount  1310.000000           1311.000000          1084.000000   \nmean      0.177099              3.591915          1759.548954   \nstd       0.840583              5.350371          8767.847252   \nmin       0.000000              0.000000             1.000000   \n25%       0.000000              0.000000          1100.000000   \n50%       0.000000              2.000000          1310.640000   \n75%       0.000000              4.000000          1600.000000   \nmax      11.000000             55.000000        190164.000000   \n\n       altitude_high_meters  altitude_mean_meters  \ncount           1084.000000           1084.000000  \nmean            1808.843803           1784.196379  \nstd             8767.187498           8767.016913  \nmin                1.000000              1.000000  \n25%             1100.000000           1100.000000  \n50%             1350.000000           1310.640000  \n75%             1650.000000           1600.000000  \nmax           190164.000000         190164.000000  "
     },
     "execution_count": 5,
     "metadata": {},
     "output_type": "execute_result"
    }
   ],
   "source": [
    "coffee.describe()"
   ]
  },
  {
   "cell_type": "markdown",
   "execution_count": null,
   "metadata": {},
   "outputs": [],
   "source": [
    "Keep our columns to be used for features"
   ]
  },
  {
   "cell_type": "code",
   "execution_count": 6,
   "metadata": {},
   "outputs": [],
   "source": [
    "coffee_slim = coffee[[\"Total.Cup.Points\",\"Country.of.Origin\",\"Variety\",\"Processing.Method\",\"altitude_mean_meters\"]]"
   ]
  },
  {
   "cell_type": "markdown",
   "execution_count": null,
   "metadata": {},
   "outputs": [],
   "source": [
    "Split the data into training and test sets based on "
   ]
  },
  {
   "cell_type": "code",
   "execution_count": 47,
   "metadata": {},
   "outputs": [],
   "source": [
    "from sklearn.model_selection import train_test_split\n",
    "\n",
    "train_set, test_set = train_test_split(coffee_slim, test_size=0.2, random_state=17)\n",
    " \n",
    "coffee_slim = train_set.drop(\"Total.Cup.Points\", axis=1)\n",
    "coffee_slim_labels = train_set[\"Total.Cup.Points\"].copy()"
   ]
  },
  {
   "cell_type": "markdown",
   "execution_count": null,
   "metadata": {},
   "outputs": [],
   "source": [
    "Time to clean up the data."
   ]
  },
  {
   "cell_type": "code",
   "execution_count": 48,
   "metadata": {},
   "outputs": [],
   "source": [
    "from sklearn.impute import SimpleImputer\n",
    "\n",
    "imputer = SimpleImputer(strategy=\"median\")\n",
    "coffee_slim_num = coffee_slim.drop([\"Country.of.Origin\",\"Variety\",\"Processing.Method\"], axis=1)\n",
    "imputer.fit(coffee_slim_num)\n",
    "X = imputer.transform(coffee_slim_num)\n",
    "coffee_tr = pd.DataFrame(X, columns=coffee_slim_num.columns,index=coffee_slim.index)"
   ]
  },
  {
   "cell_type": "code",
   "execution_count": 23,
   "metadata": {},
   "outputs": [
    {
     "data": {
      "text/plain": "[array(['Brazil', 'Burundi', 'China', 'Colombia', 'Costa Rica',\n        'Cote d?Ivoire', 'Ecuador', 'El Salvador', 'Ethiopia', 'Guatemala',\n        'Haiti', 'Honduras', 'Indonesia', 'Japan', 'Kenya', 'Laos',\n        'Malawi', 'Mauritius', 'Mexico', 'Myanmar', 'Nicaragua', 'Panama',\n        'Papua New Guinea', 'Peru', 'Philippines', 'Taiwan',\n        'Tanzania, United Republic Of', 'Thailand', 'Uganda',\n        'United States', 'United States (Hawaii)',\n        'United States (Puerto Rico)', 'Vietnam', 'Zambia'], dtype=object)]"
     },
     "execution_count": 23,
     "metadata": {},
     "output_type": "execute_result"
    }
   ],
   "source": [
    "from sklearn.preprocessing import OrdinalEncoder\n",
    "\n",
    "coffee_slim_country = coffee_slim[[\"Country.of.Origin\"]]\n",
    "\n",
    "ordinal_encoded = OrdinalEncoder()\n",
    "coffee_slim_country_encoded = ordinal_encoded.fit_transform(coffee_slim_country)\n",
    "ordinal_encoded.categories_"
   ]
  },
  {
   "cell_type": "code",
   "execution_count": 49,
   "metadata": {},
   "outputs": [],
   "source": [
    "# #from sklearn.base import BaseEstimator, TransformerMixin\n",
    "# # altitude_ix = 4\n",
    "\n",
    "# # class CleanAltitudes(BaseEstimator, TransformerMixin):\n",
    "# #     def __init__(self):\n",
    "# #         None\n",
    "# #     def fit(self, X, y=None):\n",
    "# #         return self\n",
    "# #     def transform(self, X, y=None):\n",
    "# #         # Keep only entries that have altitudes >= 200\n",
    "# #         X = X[X[:,altitude_ix] >= 200]\n",
    "# #         return np.c_[X]\n",
    "\n",
    "# # attr_cleaner = CleanAltitudes()\n",
    "# # coffee_cleaned = attr_cleaner.transform(coffee_slim.values)\n",
    "\n",
    "# from sklearn.preprocessing import FunctionTransformer\n",
    "# def remove_bad_altitudes(X):\n",
    "#     # Keep only entries that have altitudes >= 200\n",
    "#     X = X[X[:,altitude_ix] >= 200]\n",
    "#     return np.c_[X]\n",
    "\n",
    "# altitude_cleaner = FunctionTransformer(remove_bad_altitudes, validate=False)\n",
    "# coffee_slim_clean_altitudes = altitude_cleaner.fit_transform(coffee_slim.values)\n"
   ]
  },
  {
   "cell_type": "code",
   "execution_count": 50,
   "metadata": {},
   "outputs": [],
   "source": [
    "from sklearn.pipeline import Pipeline\n",
    "\n",
    "num_pipeline = Pipeline([\n",
    "    ('imputer',SimpleImputer(strategy=\"median\"))\n",
    "])\n",
    "\n",
    "coffee_slim_num_tr = num_pipeline.fit_transform(coffee_slim_num)\n",
    "\n",
    "from sklearn.compose import ColumnTransformer\n",
    "\n",
    "num_attributes = list(coffee_slim_num)\n",
    "cat_attributes = [\"Country.of.Origin\"]\n",
    "\n",
    "full_pipeline = ColumnTransformer([\n",
    "    (\"num\",num_pipeline, num_attributes),\n",
    "    (\"cat\",OrdinalEncoder(), cat_attributes)\n",
    "])\n",
    "\n",
    "coffee_slim_prepared = full_pipeline.fit_transform(coffee_slim)"
   ]
  },
  {
   "cell_type": "code",
   "execution_count": 52,
   "metadata": {},
   "outputs": [
    {
     "data": {
      "text/plain": "LinearRegression(copy_X=True, fit_intercept=True, n_jobs=None, normalize=False)"
     },
     "execution_count": 52,
     "metadata": {},
     "output_type": "execute_result"
    }
   ],
   "source": [
    "from sklearn.linear_model import LinearRegression\n",
    "\n",
    "lin_reg = LinearRegression()\n",
    "lin_reg.fit(coffee_slim_prepared, coffee_slim_labels)\n",
    "\n"
   ]
  },
  {
   "cell_type": "code",
   "execution_count": 62,
   "metadata": {},
   "outputs": [
    {
     "name": "stdout",
     "output_type": "stream",
     "text": "Predictions: [82.32944702 82.21431566 82.44504023 82.04131664 82.04129532]\nLabels: [82.75, 82.0, 83.17, 80.67, 82.42]\n"
    },
    {
     "data": {
      "text/plain": "2.6665321201817096"
     },
     "execution_count": 62,
     "metadata": {},
     "output_type": "execute_result"
    }
   ],
   "source": [
    "\n",
    "coffee_slim_labels = coffee_slim_labels\n",
    "coffee_slim_prepared = full_pipeline.transform(coffee_slim)\n",
    "\n",
    "print(\"Predictions:\", lin_reg.predict(coffee_slim_prepared)[:5])\n",
    "\n",
    "print(\"Labels:\", list(some_labels)[:5])\n",
    "\n",
    "lin_mse = mean_squared_error(coffee_slim_labels, lin_reg.predict(coffee_slim_prepared))\n",
    "lin_mse = np.sqrt(lin_mse)\n",
    "lin_mse"
   ]
  },
  {
   "cell_type": "code",
   "execution_count": 58,
   "metadata": {},
   "outputs": [
    {
     "data": {
      "text/plain": "1.9685917491616163"
     },
     "execution_count": 58,
     "metadata": {},
     "output_type": "execute_result"
    }
   ],
   "source": [
    "from sklearn.tree import DecisionTreeRegressor\n",
    "\n",
    "coffee_prepared = full_pipeline.transform(coffee_slim)\n",
    "tree_reg = DecisionTreeRegressor(random_state=42)\n",
    "tree_reg.fit(coffee_prepared, coffee_slim_labels)\n",
    "\n",
    "coffee_predictions = tree_reg.predict(coffee_prepared)\n",
    "\n",
    "tree_mse = mean_squared_error(coffee_slim_labels, coffee_predictions)\n",
    "tree_rmse = np.sqrt(tree_mse)\n",
    "tree_rmse"
   ]
  }
 ]
}