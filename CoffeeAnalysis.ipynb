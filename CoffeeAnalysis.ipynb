{
 "nbformat": 4,
 "nbformat_minor": 2,
 "metadata": {
  "language_info": {
   "name": "python",
   "codemirror_mode": {
    "name": "ipython",
    "version": 3
   },
   "version": "3.7.2-final"
  },
  "orig_nbformat": 2,
  "file_extension": ".py",
  "mimetype": "text/x-python",
  "name": "python",
  "npconvert_exporter": "python",
  "pygments_lexer": "ipython3",
  "version": 3,
  "kernelspec": {
   "name": "python37232bitvenvvirtualenv21d882e9f719476aaee9957a5bb220cc",
   "display_name": "Python 3.7.2 32-bit ('.venv': virtualenv)"
  }
 },
 "cells": [
  {
   "cell_type": "markdown",
   "execution_count": null,
   "metadata": {},
   "outputs": [],
   "source": [
    "Setup defaults and import libraries."
   ]
  },
  {
   "cell_type": "code",
   "execution_count": 1,
   "metadata": {},
   "outputs": [],
   "source": [
    "import numpy as np\n",
    "import os\n",
    "import pandas as pd\n",
    "import matplotlib as mpl\n",
    "import matplotlib.pyplot as plt\n",
    "import sklearn\n",
    "\n",
    "# to make this notebook's output stable across runs\n",
    "np.random.seed(17)"
   ]
  },
  {
   "cell_type": "markdown",
   "execution_count": null,
   "metadata": {},
   "outputs": [],
   "source": [
    "Load the data"
   ]
  },
  {
   "cell_type": "code",
   "execution_count": 2,
   "metadata": {},
   "outputs": [],
   "source": [
    "coffee_data = pd.read_csv(\"datasets//arabica_data_cleaned.csv\", index_col=[0])"
   ]
  },
  {
   "cell_type": "markdown",
   "execution_count": null,
   "metadata": {},
   "outputs": [],
   "source": [
    "Create test and training datasets"
   ]
  },
  {
   "cell_type": "code",
   "execution_count": 3,
   "metadata": {},
   "outputs": [],
   "source": [
    "from sklearn.model_selection import train_test_split\n",
    "\n",
    "train_set, test_set =  train_test_split(coffee_data, test_size=0.2, random_state=17)\n",
    "\n",
    "coffee = train_set.drop(\"Total.Cup.Points\",axis=1)\n",
    "coffee_labels = train_set[\"Total.Cup.Points\"].copy()"
   ]
  },
  {
   "cell_type": "markdown",
   "execution_count": null,
   "metadata": {},
   "outputs": [],
   "source": [
    "Write all of our data transformation steps"
   ]
  },
  {
   "cell_type": "code",
   "execution_count": 41,
   "metadata": {},
   "outputs": [],
   "source": [
    "from sklearn.preprocessing import FunctionTransformer\n",
    "\n",
    "def null_altitude_outliers(X):\n",
    "    X[X < 200] = None\n",
    "    X[X > 5000] = None\n",
    "    return X"
   ]
  },
  {
   "cell_type": "markdown",
   "execution_count": null,
   "metadata": {},
   "outputs": [],
   "source": [
    "Build our pipeline"
   ]
  },
  {
   "cell_type": "code",
   "execution_count": 44,
   "metadata": {},
   "outputs": [],
   "source": [
    "from sklearn.pipeline import Pipeline\n",
    "from sklearn.compose import ColumnTransformer\n",
    "from sklearn.impute import SimpleImputer\n",
    "from sklearn.preprocessing import OrdinalEncoder\n",
    "from sklearn.preprocessing import MinMaxScaler\n",
    "\n",
    "pipeline = ColumnTransformer([\n",
    "        ('country_encoding', Pipeline([\n",
    "            ('imputer', SimpleImputer(strategy=\"constant\")),\n",
    "            ('encoder', OrdinalEncoder())\n",
    "        ]),[\"Country.of.Origin\"]),\n",
    "        ('variety_encoding', Pipeline([\n",
    "            ('imputer', SimpleImputer(strategy=\"constant\")),\n",
    "            ('encoder', OrdinalEncoder())\n",
    "        ]),[\"Variety\"]),\n",
    "        ('processing_encoding', Pipeline([\n",
    "            ('imputer', SimpleImputer(strategy=\"constant\")),\n",
    "            ('encoder', OrdinalEncoder())\n",
    "        ]),[\"Processing.Method\"]),\n",
    "        ('numerical_data', Pipeline([\n",
    "            ('null_outliers', FunctionTransformer(null_altitude_outliers,validate=False)),\n",
    "            ('imputer', SimpleImputer(strategy=\"median\")),\n",
    "            ('std_scaler', MinMaxScaler())\n",
    "        ]),[\"altitude_mean_meters\"])\n",
    "    ])\n",
    "\n",
    "X = pipeline.fit_transform(coffee)"
   ]
  },
  {
   "cell_type": "code",
   "execution_count": null,
   "metadata": {},
   "outputs": [],
   "source": []
  }
 ]
}